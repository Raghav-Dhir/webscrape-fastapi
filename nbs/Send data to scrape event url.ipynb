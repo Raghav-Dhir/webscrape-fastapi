{
 "cells": [
  {
   "cell_type": "code",
   "execution_count": 1,
   "id": "52306c5b",
   "metadata": {},
   "outputs": [],
   "source": [
    "import requests"
   ]
  },
  {
   "cell_type": "code",
   "execution_count": 20,
   "id": "5a3a0232",
   "metadata": {},
   "outputs": [
    {
     "name": "stdout",
     "output_type": "stream",
     "text": [
      "{'asin': 'http_test', 'title': 'test123', 'price_str': '19.99'}\n"
     ]
    }
   ],
   "source": [
    "endpoint = \"http://localhost:8000/events/scrape\"\n",
    "asin = \"http_test\"\n",
    "r = requests.post(endpoint, json={\"asin\":asin, \"title\":\"test123\", \"price_str\":\"19.99\"})\n",
    "print(r.json())"
   ]
  },
  {
   "cell_type": "code",
   "execution_count": 21,
   "id": "3a44aede",
   "metadata": {},
   "outputs": [
    {
     "name": "stdout",
     "output_type": "stream",
     "text": [
      "[{'asin': 'http_test', 'title': 'test123', 'price_str': '19.99', 'created': '2023-02-20T07:48:32.778808'}, {'asin': 'http_test', 'title': 'test123', 'price_str': '19.99', 'created': '2023-02-20T07:48:39.747497'}, {'asin': 'http_test', 'title': 'test123', 'price_str': '19.99', 'created': '2023-02-20T07:48:36.670227'}, {'asin': 'http_test', 'title': 'test123', 'price_str': '19.99', 'created': '2023-02-20T07:51:21.369780'}, {'asin': 'http_test', 'title': 'test123', 'price_str': '19.99', 'created': '2023-02-20T07:50:55.764651'}, {'asin': 'http_test', 'title': 'test123', 'price_str': '19.99', 'created': '2023-02-20T07:48:47.659460'}, {'asin': 'http_test', 'title': 'test123', 'price_str': '19.99', 'created': '2023-02-20T07:48:35.217750'}, {'asin': 'http_test', 'title': 'test123', 'price_str': '19.99', 'created': '2023-02-20T07:50:49.334475'}, {'asin': 'http_test', 'title': 'test123', 'price_str': '19.99', 'created': '2023-02-20T07:48:37.816449'}, {'asin': 'http_test', 'title': 'test123', 'price_str': '19.99', 'created': '2023-02-20T07:50:58.339174'}, {'asin': 'http_test', 'title': 'test123', 'price_str': '19.99', 'created': '2023-02-20T07:51:24.601962'}, {'asin': 'http_test', 'title': 'test123', 'price_str': '19.99', 'created': '2023-02-20T07:23:49.624999'}]\n"
     ]
    }
   ],
   "source": [
    "endpoint2 = f\"http://localhost:8000/products/{asin}/events\"\n",
    "\n",
    "r2 = requests.get(endpoint2)\n",
    "print(r2.json())"
   ]
  },
  {
   "cell_type": "code",
   "execution_count": null,
   "id": "a2650be2",
   "metadata": {},
   "outputs": [],
   "source": []
  }
 ],
 "metadata": {
  "kernelspec": {
   "display_name": "Python 3 (ipykernel)",
   "language": "python",
   "name": "python3"
  },
  "language_info": {
   "codemirror_mode": {
    "name": "ipython",
    "version": 3
   },
   "file_extension": ".py",
   "mimetype": "text/x-python",
   "name": "python",
   "nbconvert_exporter": "python",
   "pygments_lexer": "ipython3",
   "version": "3.11.1"
  }
 },
 "nbformat": 4,
 "nbformat_minor": 5
}

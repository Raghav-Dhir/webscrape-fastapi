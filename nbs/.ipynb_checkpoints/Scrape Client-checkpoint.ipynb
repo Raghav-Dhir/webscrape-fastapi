{
 "cells": [
  {
   "cell_type": "code",
   "execution_count": 1,
   "id": "db55fe9d",
   "metadata": {},
   "outputs": [
    {
     "name": "stdout",
     "output_type": "stream",
     "text": [
      "/Users/raghavdhir/webscrape-fastapi/nbs\r\n"
     ]
    }
   ],
   "source": [
    "!pwd"
   ]
  },
  {
   "cell_type": "code",
   "execution_count": 2,
   "id": "e635bdc0",
   "metadata": {},
   "outputs": [
    {
     "name": "stdout",
     "output_type": "stream",
     "text": [
      "/Users/raghavdhir/webscrape-fastapi\n"
     ]
    }
   ],
   "source": [
    "cd .."
   ]
  },
  {
   "cell_type": "code",
   "execution_count": 25,
   "id": "5a854020",
   "metadata": {},
   "outputs": [],
   "source": [
    "from requests_html import HTML\n",
    "from slugify import slugify\n",
    "from app import scraper\n",
    "import pprint"
   ]
  },
  {
   "cell_type": "code",
   "execution_count": 4,
   "id": "85b93974",
   "metadata": {},
   "outputs": [],
   "source": [
    "url = \"https://www.amazon.in/dp/B0BRNX1TMX/ref=s9_acsd_al_bw_c2_x_2_i?pf_rd_m=A1K21FY43GMZF8&pf_rd_s=merchandised-search-4&pf_rd_r=71WSXQ9ZAS34CP37X4QC&pf_rd_t=101&pf_rd_p=7334ff90-6881-4272-ad11-1fcfb79fd955&pf_rd_i=1380365031\""
   ]
  },
  {
   "cell_type": "code",
   "execution_count": 5,
   "id": "5322dc20",
   "metadata": {},
   "outputs": [],
   "source": [
    "s = scraper.Scraper(url=url, endless_scroll=True)"
   ]
  },
  {
   "cell_type": "code",
   "execution_count": 6,
   "id": "8f976894",
   "metadata": {},
   "outputs": [],
   "source": [
    "html_str = s.get()"
   ]
  },
  {
   "cell_type": "code",
   "execution_count": 7,
   "id": "f7ae10da",
   "metadata": {},
   "outputs": [],
   "source": [
    "html_obj = HTML(html=html_str)"
   ]
  },
  {
   "cell_type": "code",
   "execution_count": 11,
   "id": "0092865d",
   "metadata": {},
   "outputs": [
    {
     "data": {
      "text/plain": [
       "'₹17,690.00'"
      ]
     },
     "execution_count": 11,
     "metadata": {},
     "output_type": "execute_result"
    }
   ],
   "source": [
    "price_str = html_obj.find(\".a-offscreen\", first=True).text\n",
    "price_str"
   ]
  },
  {
   "cell_type": "code",
   "execution_count": 12,
   "id": "04e410b9",
   "metadata": {},
   "outputs": [
    {
     "data": {
      "text/plain": [
       "'LG 185 L 5 Star Inverter Direct-Cool Single Door Refrigerator (GL-D201ASCU, Scarlet Charm, Base stand with drawer)'"
      ]
     },
     "execution_count": 12,
     "metadata": {},
     "output_type": "execute_result"
    }
   ],
   "source": [
    "title_str = html_obj.find(\"#productTitle\", first=True).text\n",
    "title_str"
   ]
  },
  {
   "cell_type": "code",
   "execution_count": 18,
   "id": "0f6c296e",
   "metadata": {},
   "outputs": [
    {
     "data": {
      "text/plain": [
       "[<Element 'table' class=('a-normal', 'a-spacing-none', 'reInventPriceTable')>,\n",
       " <Element 'table' class=('a-bordered', 'inemi-plans-table')>,\n",
       " <Element 'table' class=('a-bordered', 'inemi-standard-plans-credit', 'inemi-plans-table') style='display: table;'>,\n",
       " <Element 'table' class=('a-bordered', 'inemi-plans-table')>,\n",
       " <Element 'table' class=('a-bordered', 'inemi-standard-plans-credit', 'inemi-plans-table') style='display: table;'>,\n",
       " <Element 'table' class=('a-bordered', 'inemi-plans-table')>,\n",
       " <Element 'table' class=('a-bordered', 'inemi-standard-plans-credit', 'inemi-plans-table') style='display: table;'>,\n",
       " <Element 'table' class=('a-bordered', 'inemi-plans-table')>,\n",
       " <Element 'table' class=('a-bordered', 'inemi-standard-plans-credit', 'inemi-plans-table') style='display: table;'>,\n",
       " <Element 'table' class=('a-bordered', 'inemi-plans-table')>,\n",
       " <Element 'table' class=('a-bordered', 'inemi-standard-plans-credit', 'inemi-plans-table') style='display: table;'>,\n",
       " <Element 'table' class=('a-bordered', 'inemi-plans-table')>,\n",
       " <Element 'table' class=('a-bordered', 'inemi-standard-plans-credit', 'inemi-plans-table') style='display: table;'>,\n",
       " <Element 'table' class=('a-bordered', 'inemi-plans-table')>,\n",
       " <Element 'table' class=('a-bordered', 'inemi-standard-plans-credit', 'inemi-plans-table') style='display: table;'>,\n",
       " <Element 'table' class=('a-bordered', 'inemi-plans-table')>,\n",
       " <Element 'table' class=('a-bordered', 'inemi-standard-plans-credit', 'inemi-plans-table') style='display: table;'>,\n",
       " <Element 'table' class=('a-bordered', 'inemi-plans-table')>,\n",
       " <Element 'table' class=('a-bordered', 'inemi-standard-plans-credit', 'inemi-plans-table') style='display: table;'>,\n",
       " <Element 'table' class=('a-bordered', 'inemi-plans-table')>,\n",
       " <Element 'table' class=('a-bordered', 'inemi-standard-plans-credit', 'inemi-plans-table') style='display: table;'>,\n",
       " <Element 'table' class=('a-bordered', 'inemi-plans-table')>,\n",
       " <Element 'table' class=('a-bordered', 'inemi-standard-plans-credit', 'inemi-plans-table') style='display: table;'>,\n",
       " <Element 'table' class=('a-bordered', 'inemi-plans-table')>,\n",
       " <Element 'table' class=('a-bordered', 'inemi-standard-plans-credit', 'inemi-plans-table') style='display: table;'>,\n",
       " <Element 'table' class=('a-bordered', 'inemi-standard-plans-credit', 'inemi-plans-table') style='display: table;'>,\n",
       " <Element 'table' class=('a-bordered', 'inemi-standard-plans-credit', 'inemi-plans-table') style='display: table;'>,\n",
       " <Element 'table' class=('a-bordered', 'inemi-standard-plans-credit', 'inemi-plans-table') style='display: table;'>,\n",
       " <Element 'table' class=('a-bordered', 'inemi-standard-plans-credit', 'inemi-plans-table') style='display: table;'>,\n",
       " <Element 'table' class=('a-bordered', 'inemi-plans-table')>,\n",
       " <Element 'table' class=('a-bordered', 'inemi-plans-table')>,\n",
       " <Element 'table' class=('a-keyvalue',)>,\n",
       " <Element 'table' class=('a-normal',)>,\n",
       " <Element 'table' id='productDetails_techSpec_section_1' class=('a-keyvalue', 'prodDetTable') role='presentation'>,\n",
       " <Element 'table' id='productDetails_detailBullets_sections1' class=('a-keyvalue', 'prodDetTable') role='presentation'>,\n",
       " <Element 'table' id='productDetails_feedback_sections' class=('a-keyvalue', 'prodDetTable') role='presentation'>,\n",
       " <Element 'table' id='HLCXComparisonTable' class=('a-normal', 'in-comparison-table')>,\n",
       " <Element 'table' id='in-dynamic-comparision-mini-header' class=('a-normal', 'aok-hidden')>,\n",
       " <Element 'table' id='histogramTable' class=('a-normal', 'a-spacing-none') role='presentation'>,\n",
       " <Element 'table' id='histogramTable' class=('a-normal', 'a-align-center', 'a-spacing-base')>,\n",
       " <Element 'table' class=('navFooterMoreOnAmazon',) cellspacing='0'>]"
      ]
     },
     "execution_count": 18,
     "metadata": {},
     "output_type": "execute_result"
    }
   ],
   "source": [
    "tables = html_obj.find(\"table\")\n",
    "tables"
   ]
  },
  {
   "cell_type": "code",
   "execution_count": 26,
   "id": "a9153aad",
   "metadata": {},
   "outputs": [
    {
     "name": "stdout",
     "output_type": "stream",
     "text": [
      "{'annual-energy-consumption': '\\u200e131 Kilowatt Hours Per Year',\n",
      " 'asin': 'B0BRNX1TMX',\n",
      " 'batteries-included': '\\u200eNo',\n",
      " 'batteries-required': '\\u200eNo',\n",
      " 'best-sellers-rank': '#2,451 in Home & Kitchen (See Top 100 in Home & '\n",
      "                      'Kitchen)  #10 in Refrigerators',\n",
      " 'brand': '\\u200eLG',\n",
      " 'capacity': '\\u200e185 litres',\n",
      " 'certification': '\\u200eEnergy Rating',\n",
      " 'colour': '\\u200eScarlet Charm',\n",
      " 'country-of-origin': '\\u200eIndia',\n",
      " 'customer-reviews': '/* \\n'\n",
      "                     '    * Fix for UDP-1061. Average customer reviews has a '\n",
      "                     'small extra line on hover \\n'\n",
      "                     '    * '\n",
      "                     'https://omni-grok.amazon.com/xref/src/appgroup/websiteTemplates/retail/SoftlinesDetailPageAssets/udp-intl-lock/src/legacy.css?indexName=WebsiteTemplates#40\\n'\n",
      "                     '    */\\n'\n",
      "                     '    .noUnderline a:hover { \\n'\n",
      "                     '        text-decoration: none; \\n'\n",
      "                     '    }\\n'\n",
      "                     '\\n'\n",
      "                     '\\n'\n",
      "                     ' \\n'\n",
      "                     '  4.3 out of 5 stars    \\n'\n",
      "                     '    2,126 ratings   \\n'\n",
      "                     \"                    P.when('A', \"\n",
      "                     \"'ready').execute(function(A) {\\n\"\n",
      "                     '                        '\n",
      "                     \"A.declarative('acrLink-click-metrics', 'click', { \"\n",
      "                     '\"allowLinkDefault\" : true }, function(event){\\n'\n",
      "                     '                            if(window.ue) {\\n'\n",
      "                     '                                '\n",
      "                     'ue.count(\"acrLinkClickCount\", '\n",
      "                     '(ue.count(\"acrLinkClickCount\") || 0) + 1);\\n'\n",
      "                     '                            }\\n'\n",
      "                     '                        });\\n'\n",
      "                     '                    });\\n'\n",
      "                     '                \\n'\n",
      "                     '\\n'\n",
      "                     \"            P.when('A', 'cf').execute(function(A) {\\n\"\n",
      "                     '                '\n",
      "                     \"A.declarative('acrStarsLink-click-metrics', 'click', { \"\n",
      "                     '\"allowLinkDefault\" : true },  function(event){\\n'\n",
      "                     '                    if(window.ue) {\\n'\n",
      "                     '                        '\n",
      "                     'ue.count(\"acrStarsLinkWithPopoverClickCount\", '\n",
      "                     '(ue.count(\"acrStarsLinkWithPopoverClickCount\") || 0) + '\n",
      "                     '1);\\n'\n",
      "                     '                    }\\n'\n",
      "                     '                });\\n'\n",
      "                     '            });\\n'\n",
      "                     '        \\n'\n",
      "                     '\\n'\n",
      "                     ' 4.3 out of 5 stars',\n",
      " 'date-first-available': '4 January 2023',\n",
      " 'defrost-system': '\\u200eDirect cool',\n",
      " 'door-material': '\\u200eStainless Steel',\n",
      " 'door-orientation': '\\u200eLeft',\n",
      " 'freezer-capacity': '\\u200e16 Litres',\n",
      " 'generic-name': 'Single Door Refrigerator',\n",
      " 'importer': 'Regd. Office: A-24/6, Mohan Cooperative IND Estate, Mathura '\n",
      "             'Road, New Delhi-110044',\n",
      " 'included-components': '\\u200e1U Refrigerator; 1U Owner Manual; 1U Base Stand',\n",
      " 'installation-type': '\\u200eFreestanding',\n",
      " 'item-dimensions-lxwxh': '65 x 53.4 x 127.7 Centimeters',\n",
      " 'item-weight': '33 kg',\n",
      " 'manufacturer': '\\u200eLG Electronics India Pvt. Ltd.',\n",
      " 'material': '\\u200ePlastic, Steel',\n",
      " 'model': '\\u200eGL-D201ASCU',\n",
      " 'net-quantity': '1 Piece',\n",
      " 'number-of-drawers': '\\u200e1',\n",
      " 'number-of-shelves': '\\u200e2',\n",
      " 'packer': 'LG Electronics India Pvt. Ltd., 51, Udyog Vihar, Greater Noida '\n",
      "           '(U.P)-201306 | Contact Brand for assistance @ [ Call: 08069379999; '\n",
      "           'WhatsApp: 9711709999 ], serviceindia@lge.com',\n",
      " 'part-number': '\\u200e3A2R2121',\n",
      " 'refrigerator-fresh-food-capacity': '\\u200e169 litres',\n",
      " 'shelf-type': '\\u200eToughened Glass',\n",
      " 'special-features': '\\u200eInverter Compressor, Base Stand with drawer, '\n",
      "                     'Stabilizer free operation, Adjustable Shelves, Door Lock',\n",
      " 'voltage': '\\u200e230 Volts',\n",
      " 'wattage': '\\u200e50 Watts',\n",
      " 'weighted-annual-energy-consumption': '\\u200e131 Kilowatt Hours Per Year'}\n"
     ]
    }
   ],
   "source": [
    "dataset = {}\n",
    "for table in tables:\n",
    "    for tbody in table.element.getchildren():\n",
    "        for tr in tbody.getchildren():\n",
    "            row = []\n",
    "            for col in tr.getchildren():\n",
    "                content = \"\"\n",
    "                try:\n",
    "                    content = col.text_content()\n",
    "                except:\n",
    "                    pass\n",
    "                if content != \"\":\n",
    "                    _content = content.strip()\n",
    "                    row.append(_content)\n",
    "            if len(row) != 2:\n",
    "                continue\n",
    "            key = row[0]\n",
    "            value = row[1]\n",
    "            # print(key, value)\n",
    "            data = {}\n",
    "            key = slugify(key)\n",
    "            if key in dataset:\n",
    "                continue\n",
    "            else:\n",
    "                dataset[key] = value\n",
    "pprint.pprint(dataset)"
   ]
  },
  {
   "cell_type": "code",
   "execution_count": 27,
   "id": "43d7231b",
   "metadata": {},
   "outputs": [],
   "source": [
    "def extract_dataset(tables):\n",
    "    dataset = {}\n",
    "    for table in tables:\n",
    "        for tbody in table.element.getchildren():\n",
    "            for tr in tbody.getchildren():\n",
    "                row = []\n",
    "                for col in tr.getchildren():\n",
    "                    content = \"\"\n",
    "                    try:\n",
    "                        content = col.text_content()\n",
    "                    except:\n",
    "                        pass\n",
    "                    if content != \"\":\n",
    "                        _content = content.strip()\n",
    "                        row.append(_content)\n",
    "                if len(row) != 2:\n",
    "                    continue\n",
    "                key = row[0]\n",
    "                value = row[1]\n",
    "                data = {}\n",
    "                key = slugify(key)\n",
    "                if key in dataset:\n",
    "                    continue\n",
    "                else:\n",
    "                    dataset[key] = value\n",
    "    return dataset"
   ]
  },
  {
   "cell_type": "code",
   "execution_count": 32,
   "id": "c5f1a8d7",
   "metadata": {},
   "outputs": [
    {
     "data": {
      "text/plain": [
       "{'brand': '\\u200eLG',\n",
       " 'model': '\\u200eGL-D201ASCU',\n",
       " 'weighted-annual-energy-consumption': '\\u200e131 Kilowatt Hours Per Year',\n",
       " 'capacity': '\\u200e185 litres',\n",
       " 'annual-energy-consumption': '\\u200e131 Kilowatt Hours Per Year',\n",
       " 'refrigerator-fresh-food-capacity': '\\u200e169 litres',\n",
       " 'freezer-capacity': '\\u200e16 Litres',\n",
       " 'installation-type': '\\u200eFreestanding',\n",
       " 'part-number': '\\u200e3A2R2121',\n",
       " 'special-features': '\\u200eInverter Compressor, Base Stand with drawer, Stabilizer free operation, Adjustable Shelves, Door Lock',\n",
       " 'colour': '\\u200eScarlet Charm',\n",
       " 'voltage': '\\u200e230 Volts',\n",
       " 'wattage': '\\u200e50 Watts',\n",
       " 'number-of-drawers': '\\u200e1',\n",
       " 'defrost-system': '\\u200eDirect cool',\n",
       " 'door-orientation': '\\u200eLeft',\n",
       " 'door-material': '\\u200eStainless Steel',\n",
       " 'shelf-type': '\\u200eToughened Glass',\n",
       " 'number-of-shelves': '\\u200e2',\n",
       " 'certification': '\\u200eEnergy Rating',\n",
       " 'material': '\\u200ePlastic, Steel',\n",
       " 'included-components': '\\u200e1U Refrigerator; 1U Owner Manual; 1U Base Stand',\n",
       " 'batteries-included': '\\u200eNo',\n",
       " 'batteries-required': '\\u200eNo',\n",
       " 'manufacturer': '\\u200eLG Electronics India Pvt. Ltd.',\n",
       " 'country-of-origin': '\\u200eIndia',\n",
       " 'asin': 'B0BRNX1TMX',\n",
       " 'customer-reviews': '/* \\n    * Fix for UDP-1061. Average customer reviews has a small extra line on hover \\n    * https://omni-grok.amazon.com/xref/src/appgroup/websiteTemplates/retail/SoftlinesDetailPageAssets/udp-intl-lock/src/legacy.css?indexName=WebsiteTemplates#40\\n    */\\n    .noUnderline a:hover { \\n        text-decoration: none; \\n    }\\n\\n\\n \\n  4.3 out of 5 stars    \\n    2,126 ratings   \\n                    P.when(\\'A\\', \\'ready\\').execute(function(A) {\\n                        A.declarative(\\'acrLink-click-metrics\\', \\'click\\', { \"allowLinkDefault\" : true }, function(event){\\n                            if(window.ue) {\\n                                ue.count(\"acrLinkClickCount\", (ue.count(\"acrLinkClickCount\") || 0) + 1);\\n                            }\\n                        });\\n                    });\\n                \\n\\n            P.when(\\'A\\', \\'cf\\').execute(function(A) {\\n                A.declarative(\\'acrStarsLink-click-metrics\\', \\'click\\', { \"allowLinkDefault\" : true },  function(event){\\n                    if(window.ue) {\\n                        ue.count(\"acrStarsLinkWithPopoverClickCount\", (ue.count(\"acrStarsLinkWithPopoverClickCount\") || 0) + 1);\\n                    }\\n                });\\n            });\\n        \\n\\n 4.3 out of 5 stars',\n",
       " 'best-sellers-rank': '#2,451 in Home & Kitchen (See Top 100 in Home & Kitchen)  #10 in Refrigerators',\n",
       " 'date-first-available': '4 January 2023',\n",
       " 'packer': 'LG Electronics India Pvt. Ltd., 51, Udyog Vihar, Greater Noida (U.P)-201306 | Contact Brand for assistance @ [ Call: 08069379999; WhatsApp: 9711709999 ], serviceindia@lge.com',\n",
       " 'importer': 'Regd. Office: A-24/6, Mohan Cooperative IND Estate, Mathura Road, New Delhi-110044',\n",
       " 'item-weight': '33 kg',\n",
       " 'item-dimensions-lxwxh': '65 x 53.4 x 127.7 Centimeters',\n",
       " 'net-quantity': '1 Piece',\n",
       " 'generic-name': 'Single Door Refrigerator'}"
      ]
     },
     "execution_count": 32,
     "metadata": {},
     "output_type": "execute_result"
    }
   ],
   "source": [
    "extract_dataset(tables)"
   ]
  },
  {
   "cell_type": "code",
   "execution_count": null,
   "id": "892e995c",
   "metadata": {},
   "outputs": [],
   "source": []
  }
 ],
 "metadata": {
  "kernelspec": {
   "display_name": "Python 3 (ipykernel)",
   "language": "python",
   "name": "python3"
  },
  "language_info": {
   "codemirror_mode": {
    "name": "ipython",
    "version": 3
   },
   "file_extension": ".py",
   "mimetype": "text/x-python",
   "name": "python",
   "nbconvert_exporter": "python",
   "pygments_lexer": "ipython3",
   "version": "3.11.1"
  }
 },
 "nbformat": 4,
 "nbformat_minor": 5
}

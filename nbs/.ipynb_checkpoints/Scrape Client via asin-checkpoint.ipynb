{
 "cells": [
  {
   "cell_type": "code",
   "execution_count": 1,
   "id": "db55fe9d",
   "metadata": {},
   "outputs": [
    {
     "name": "stdout",
     "output_type": "stream",
     "text": [
      "/Users/raghavdhir/webscrape-fastapi/nbs\r\n"
     ]
    }
   ],
   "source": [
    "!pwd"
   ]
  },
  {
   "cell_type": "code",
   "execution_count": 2,
   "id": "e635bdc0",
   "metadata": {},
   "outputs": [
    {
     "name": "stdout",
     "output_type": "stream",
     "text": [
      "/Users/raghavdhir/webscrape-fastapi\n"
     ]
    }
   ],
   "source": [
    "cd .."
   ]
  },
  {
   "cell_type": "code",
   "execution_count": 3,
   "id": "5a854020",
   "metadata": {},
   "outputs": [],
   "source": [
    "from requests_html import HTML\n",
    "from slugify import slugify\n",
    "from app import scraper\n",
    "import pprint"
   ]
  },
  {
   "cell_type": "code",
   "execution_count": 4,
   "id": "85b93974",
   "metadata": {},
   "outputs": [],
   "source": [
    "url = \"https://www.amazon.in/dp/B0BRNX1TMX/ref=s9_acsd_al_bw_c2_x_2_i?pf_rd_m=A1K21FY43GMZF8&pf_rd_s=merchandised-search-4&pf_rd_r=71WSXQ9ZAS34CP37X4QC&pf_rd_t=101&pf_rd_p=7334ff90-6881-4272-ad11-1fcfb79fd955&pf_rd_i=1380365031\""
   ]
  },
  {
   "cell_type": "code",
   "execution_count": 5,
   "id": "5322dc20",
   "metadata": {},
   "outputs": [],
   "source": [
    "s = scraper.Scraper(url=url, endless_scroll=True)"
   ]
  },
  {
   "cell_type": "code",
   "execution_count": 6,
   "id": "8f976894",
   "metadata": {},
   "outputs": [],
   "source": [
    "dataset = s.scrape()"
   ]
  },
  {
   "cell_type": "code",
   "execution_count": 7,
   "id": "892e995c",
   "metadata": {},
   "outputs": [
    {
     "data": {
      "text/plain": [
       "{'price_str': '₹17,690.00',\n",
       " 'title_str': 'LG 185 L 5 Star Inverter Direct-Cool Single Door Refrigerator (GL-D201ASCU, Scarlet Charm, Base stand with drawer)',\n",
       " 'brand': '\\u200eLG',\n",
       " 'model': '\\u200eGL-D201ASCU',\n",
       " 'weighted-annual-energy-consumption': '\\u200e131 Kilowatt Hours Per Year',\n",
       " 'capacity': '\\u200e185 litres',\n",
       " 'annual-energy-consumption': '\\u200e131 Kilowatt Hours Per Year',\n",
       " 'refrigerator-fresh-food-capacity': '\\u200e169 litres',\n",
       " 'freezer-capacity': '\\u200e16 Litres',\n",
       " 'installation-type': '\\u200eFreestanding',\n",
       " 'part-number': '\\u200e3A2R2121',\n",
       " 'special-features': '\\u200eInverter Compressor, Base Stand with drawer, Stabilizer free operation, Adjustable Shelves, Door Lock',\n",
       " 'colour': '\\u200eScarlet Charm',\n",
       " 'voltage': '\\u200e230 Volts',\n",
       " 'wattage': '\\u200e50 Watts',\n",
       " 'number-of-drawers': '\\u200e1',\n",
       " 'defrost-system': '\\u200eDirect cool',\n",
       " 'door-orientation': '\\u200eLeft',\n",
       " 'door-material': '\\u200eStainless Steel',\n",
       " 'shelf-type': '\\u200eToughened Glass',\n",
       " 'number-of-shelves': '\\u200e2',\n",
       " 'certification': '\\u200eEnergy Rating',\n",
       " 'material': '\\u200ePlastic, Steel',\n",
       " 'included-components': '\\u200e1U Refrigerator; 1U Owner Manual; 1U Base Stand',\n",
       " 'batteries-included': '\\u200eNo',\n",
       " 'batteries-required': '\\u200eNo',\n",
       " 'manufacturer': '\\u200eLG Electronics India Pvt. Ltd.',\n",
       " 'country-of-origin': '\\u200eIndia',\n",
       " 'asin': 'B0BRNX1TMX',\n",
       " 'customer-reviews': '/* \\n    * Fix for UDP-1061. Average customer reviews has a small extra line on hover \\n    * https://omni-grok.amazon.com/xref/src/appgroup/websiteTemplates/retail/SoftlinesDetailPageAssets/udp-intl-lock/src/legacy.css?indexName=WebsiteTemplates#40\\n    */\\n    .noUnderline a:hover { \\n        text-decoration: none; \\n    }\\n\\n\\n \\n  4.3 out of 5 stars    \\n    2,126 ratings   \\n                    P.when(\\'A\\', \\'ready\\').execute(function(A) {\\n                        A.declarative(\\'acrLink-click-metrics\\', \\'click\\', { \"allowLinkDefault\" : true }, function(event){\\n                            if(window.ue) {\\n                                ue.count(\"acrLinkClickCount\", (ue.count(\"acrLinkClickCount\") || 0) + 1);\\n                            }\\n                        });\\n                    });\\n                \\n\\n            P.when(\\'A\\', \\'cf\\').execute(function(A) {\\n                A.declarative(\\'acrStarsLink-click-metrics\\', \\'click\\', { \"allowLinkDefault\" : true },  function(event){\\n                    if(window.ue) {\\n                        ue.count(\"acrStarsLinkWithPopoverClickCount\", (ue.count(\"acrStarsLinkWithPopoverClickCount\") || 0) + 1);\\n                    }\\n                });\\n            });\\n        \\n\\n 4.3 out of 5 stars',\n",
       " 'best-sellers-rank': '#2,451 in Home & Kitchen (See Top 100 in Home & Kitchen)  #10 in Refrigerators',\n",
       " 'date-first-available': '4 January 2023',\n",
       " 'packer': 'LG Electronics India Pvt. Ltd., 51, Udyog Vihar, Greater Noida (U.P)-201306 | Contact Brand for assistance @ [ Call: 08069379999; WhatsApp: 9711709999 ], serviceindia@lge.com',\n",
       " 'importer': 'Regd. Office: A-24/6, Mohan Cooperative IND Estate, Mathura Road, New Delhi-110044',\n",
       " 'item-weight': '33 kg',\n",
       " 'item-dimensions-lxwxh': '65 x 53.4 x 127.7 Centimeters',\n",
       " 'net-quantity': '1 Piece',\n",
       " 'generic-name': 'Single Door Refrigerator'}"
      ]
     },
     "execution_count": 7,
     "metadata": {},
     "output_type": "execute_result"
    }
   ],
   "source": [
    "dataset"
   ]
  },
  {
   "cell_type": "code",
   "execution_count": null,
   "id": "8fc442cf",
   "metadata": {},
   "outputs": [],
   "source": []
  }
 ],
 "metadata": {
  "kernelspec": {
   "display_name": "Python 3 (ipykernel)",
   "language": "python",
   "name": "python3"
  },
  "language_info": {
   "codemirror_mode": {
    "name": "ipython",
    "version": 3
   },
   "file_extension": ".py",
   "mimetype": "text/x-python",
   "name": "python",
   "nbconvert_exporter": "python",
   "pygments_lexer": "ipython3",
   "version": "3.11.1"
  }
 },
 "nbformat": 4,
 "nbformat_minor": 5
}

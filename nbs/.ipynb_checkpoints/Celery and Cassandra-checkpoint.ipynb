{
 "cells": [
  {
   "cell_type": "code",
   "execution_count": 1,
   "id": "0839b0c2",
   "metadata": {},
   "outputs": [
    {
     "name": "stdout",
     "output_type": "stream",
     "text": [
      "/Users/raghavdhir/webscrape-fastapi\n"
     ]
    }
   ],
   "source": [
    "cd .."
   ]
  },
  {
   "cell_type": "code",
   "execution_count": 2,
   "id": "7f9d0e02",
   "metadata": {},
   "outputs": [],
   "source": [
    "from app import worker"
   ]
  },
  {
   "cell_type": "code",
   "execution_count": 3,
   "id": "84d2162b",
   "metadata": {},
   "outputs": [
    {
     "name": "stdout",
     "output_type": "stream",
     "text": [
      "i live in Gokuldham society.\n"
     ]
    }
   ],
   "source": [
    "worker.random_task(\"Gokuldham\")"
   ]
  },
  {
   "cell_type": "code",
   "execution_count": 4,
   "id": "370fd620",
   "metadata": {},
   "outputs": [
    {
     "data": {
      "text/plain": [
       "<AsyncResult: 8dc66690-dc42-4c7e-ae6d-b20b74e6ebd9>"
      ]
     },
     "execution_count": 4,
     "metadata": {},
     "output_type": "execute_result"
    }
   ],
   "source": [
    "worker.random_task.delay(\"gokuldham\")"
   ]
  },
  {
   "cell_type": "code",
   "execution_count": 6,
   "id": "ee40fd6e",
   "metadata": {},
   "outputs": [],
   "source": [
    "for i in range(10):\n",
    "    worker.random_task.delay(f\"gokuldham-{i}\")"
   ]
  },
  {
   "cell_type": "code",
   "execution_count": 7,
   "id": "1aba6815",
   "metadata": {},
   "outputs": [],
   "source": [
    "for i in range(10):\n",
    "    worker.random_task.apply_async(args=(f\"gokuldham-{i}\", ), countdown=10)"
   ]
  },
  {
   "cell_type": "code",
   "execution_count": null,
   "id": "bf3401ad",
   "metadata": {},
   "outputs": [],
   "source": []
  }
 ],
 "metadata": {
  "kernelspec": {
   "display_name": "Python 3 (ipykernel)",
   "language": "python",
   "name": "python3"
  },
  "language_info": {
   "codemirror_mode": {
    "name": "ipython",
    "version": 3
   },
   "file_extension": ".py",
   "mimetype": "text/x-python",
   "name": "python",
   "nbconvert_exporter": "python",
   "pygments_lexer": "ipython3",
   "version": "3.11.1"
  }
 },
 "nbformat": 4,
 "nbformat_minor": 5
}

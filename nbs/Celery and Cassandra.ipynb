{
 "cells": [
  {
   "cell_type": "code",
   "execution_count": 1,
   "id": "0839b0c2",
   "metadata": {},
   "outputs": [
    {
     "name": "stdout",
     "output_type": "stream",
     "text": [
      "/Users/raghavdhir/webscrape-fastapi\n"
     ]
    }
   ],
   "source": [
    "cd .."
   ]
  },
  {
   "cell_type": "code",
   "execution_count": 14,
   "id": "7f9d0e02",
   "metadata": {},
   "outputs": [],
   "source": [
    "from app import worker, db"
   ]
  },
  {
   "cell_type": "code",
   "execution_count": 15,
   "id": "84d2162b",
   "metadata": {},
   "outputs": [
    {
     "name": "stdout",
     "output_type": "stream",
     "text": [
      "['testing123', 'AMZNIDNUM', 'http_test', 'AMZIDNUM']\n"
     ]
    }
   ],
   "source": [
    "session = db.get_session()\n",
    "worker.list_products()"
   ]
  },
  {
   "cell_type": "code",
   "execution_count": 16,
   "id": "370fd620",
   "metadata": {},
   "outputs": [
    {
     "data": {
      "text/plain": [
       "<AsyncResult: 2297d071-e407-47ab-9471-c1132c631e4c>"
      ]
     },
     "execution_count": 16,
     "metadata": {},
     "output_type": "execute_result"
    }
   ],
   "source": [
    "worker.list_products.delay()"
   ]
  },
  {
   "cell_type": "code",
   "execution_count": 6,
   "id": "ee40fd6e",
   "metadata": {},
   "outputs": [],
   "source": [
    "for i in range(10):\n",
    "    worker.random_task.delay()"
   ]
  },
  {
   "cell_type": "code",
   "execution_count": 7,
   "id": "1aba6815",
   "metadata": {},
   "outputs": [],
   "source": [
    "for i in range(10):\n",
    "    worker.random_task.apply_async(args=(, ), countdown=10)"
   ]
  },
  {
   "cell_type": "code",
   "execution_count": null,
   "id": "bf3401ad",
   "metadata": {},
   "outputs": [],
   "source": []
  }
 ],
 "metadata": {
  "kernelspec": {
   "display_name": "Python 3 (ipykernel)",
   "language": "python",
   "name": "python3"
  },
  "language_info": {
   "codemirror_mode": {
    "name": "ipython",
    "version": 3
   },
   "file_extension": ".py",
   "mimetype": "text/x-python",
   "name": "python",
   "nbconvert_exporter": "python",
   "pygments_lexer": "ipython3",
   "version": "3.11.1"
  }
 },
 "nbformat": 4,
 "nbformat_minor": 5
}
